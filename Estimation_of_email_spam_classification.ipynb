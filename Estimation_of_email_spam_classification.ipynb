{
  "nbformat": 4,
  "nbformat_minor": 0,
  "metadata": {
    "colab": {
      "name": "Estimation of email spam classification.ipynb",
      "provenance": [],
      "collapsed_sections": [],
      "authorship_tag": "ABX9TyOJUKo1b8XqzFp7PFet45Cj",
      "include_colab_link": true
    },
    "kernelspec": {
      "name": "python3",
      "display_name": "Python 3"
    }
  },
  "cells": [
    {
      "cell_type": "markdown",
      "metadata": {
        "id": "view-in-github",
        "colab_type": "text"
      },
      "source": [
        "<a href=\"https://colab.research.google.com/github/nikenoctaa/Estimation-of-Email-Spam-Classification/blob/master/Estimation_of_email_spam_classification.ipynb\" target=\"_parent\"><img src=\"https://colab.research.google.com/assets/colab-badge.svg\" alt=\"Open In Colab\"/></a>"
      ]
    },
    {
      "cell_type": "code",
      "metadata": {
        "id": "ij5I0GCBTUt2",
        "colab_type": "code",
        "colab": {
          "base_uri": "https://localhost:8080/",
          "height": 17
        },
        "outputId": "fb290fd4-ff62-4286-b6e3-4871dfc72a35"
      },
      "source": [
        "import numpy as np # linear algebra\n",
        "import pandas as pd # data processing, CSV file I/O (e.g. pd.read_csv)\n",
        "import matplotlib.pyplot as plt\n",
        "%matplotlib inline\n",
        "import seaborn as sns\n",
        "\n",
        "import plotly.offline as py\n",
        "from plotly.offline import init_notebook_mode,iplot\n",
        "init_notebook_mode(connected=True) \n",
        "from plotly import tools\n",
        "import plotly.figure_factory as ff\n",
        "\n",
        "import nltk\n",
        "import re\n",
        "import string\n",
        "import os\n"
      ],
      "execution_count": 314,
      "outputs": [
        {
          "output_type": "display_data",
          "data": {
            "text/html": [
              "        <script type=\"text/javascript\">\n",
              "        window.PlotlyConfig = {MathJaxConfig: 'local'};\n",
              "        if (window.MathJax) {MathJax.Hub.Config({SVG: {font: \"STIX-Web\"}});}\n",
              "        if (typeof require !== 'undefined') {\n",
              "        require.undef(\"plotly\");\n",
              "        requirejs.config({\n",
              "            paths: {\n",
              "                'plotly': ['https://cdn.plot.ly/plotly-latest.min']\n",
              "            }\n",
              "        });\n",
              "        require(['plotly'], function(Plotly) {\n",
              "            window._Plotly = Plotly;\n",
              "        });\n",
              "        }\n",
              "        </script>\n",
              "        "
            ]
          },
          "metadata": {
            "tags": []
          }
        }
      ]
    },
    {
      "cell_type": "code",
      "metadata": {
        "id": "sQGCr4YDyRCC",
        "colab_type": "code",
        "colab": {}
      },
      "source": [
        "data = pd.read_csv(\"spam_ham_dataset.csv\")"
      ],
      "execution_count": 315,
      "outputs": []
    },
    {
      "cell_type": "code",
      "metadata": {
        "id": "rPSS8w9RVLq7",
        "colab_type": "code",
        "colab": {
          "base_uri": "https://localhost:8080/",
          "height": 204
        },
        "outputId": "f089c26f-1f4b-4579-9c14-79952ef1d3c2"
      },
      "source": [
        "data.head()"
      ],
      "execution_count": 316,
      "outputs": [
        {
          "output_type": "execute_result",
          "data": {
            "text/html": [
              "<div>\n",
              "<style scoped>\n",
              "    .dataframe tbody tr th:only-of-type {\n",
              "        vertical-align: middle;\n",
              "    }\n",
              "\n",
              "    .dataframe tbody tr th {\n",
              "        vertical-align: top;\n",
              "    }\n",
              "\n",
              "    .dataframe thead th {\n",
              "        text-align: right;\n",
              "    }\n",
              "</style>\n",
              "<table border=\"1\" class=\"dataframe\">\n",
              "  <thead>\n",
              "    <tr style=\"text-align: right;\">\n",
              "      <th></th>\n",
              "      <th>Unnamed: 0</th>\n",
              "      <th>label</th>\n",
              "      <th>text</th>\n",
              "      <th>label_num</th>\n",
              "    </tr>\n",
              "  </thead>\n",
              "  <tbody>\n",
              "    <tr>\n",
              "      <th>0</th>\n",
              "      <td>605</td>\n",
              "      <td>ham</td>\n",
              "      <td>Subject: enron methanol ; meter # : 988291\\r\\n...</td>\n",
              "      <td>0</td>\n",
              "    </tr>\n",
              "    <tr>\n",
              "      <th>1</th>\n",
              "      <td>2349</td>\n",
              "      <td>ham</td>\n",
              "      <td>Subject: hpl nom for january 9 , 2001\\r\\n( see...</td>\n",
              "      <td>0</td>\n",
              "    </tr>\n",
              "    <tr>\n",
              "      <th>2</th>\n",
              "      <td>3624</td>\n",
              "      <td>ham</td>\n",
              "      <td>Subject: neon retreat\\r\\nho ho ho , we ' re ar...</td>\n",
              "      <td>0</td>\n",
              "    </tr>\n",
              "    <tr>\n",
              "      <th>3</th>\n",
              "      <td>4685</td>\n",
              "      <td>spam</td>\n",
              "      <td>Subject: photoshop , windows , office . cheap ...</td>\n",
              "      <td>1</td>\n",
              "    </tr>\n",
              "    <tr>\n",
              "      <th>4</th>\n",
              "      <td>2030</td>\n",
              "      <td>ham</td>\n",
              "      <td>Subject: re : indian springs\\r\\nthis deal is t...</td>\n",
              "      <td>0</td>\n",
              "    </tr>\n",
              "  </tbody>\n",
              "</table>\n",
              "</div>"
            ],
            "text/plain": [
              "   Unnamed: 0  ... label_num\n",
              "0         605  ...         0\n",
              "1        2349  ...         0\n",
              "2        3624  ...         0\n",
              "3        4685  ...         1\n",
              "4        2030  ...         0\n",
              "\n",
              "[5 rows x 4 columns]"
            ]
          },
          "metadata": {
            "tags": []
          },
          "execution_count": 316
        }
      ]
    },
    {
      "cell_type": "code",
      "metadata": {
        "id": "NrQLqpQtyXH2",
        "colab_type": "code",
        "colab": {
          "base_uri": "https://localhost:8080/",
          "height": 299
        },
        "outputId": "d54c985a-7b0f-41d8-ad80-7e8ca6f9b12b"
      },
      "source": [
        "count_Class=pd.value_counts(data[\"label\"], sort= True)\n",
        "count_Class.plot(kind= 'bar', color= [\"blue\", \"orange\"])\n",
        "plt.title('Bar chart')\n",
        "plt.show()"
      ],
      "execution_count": 317,
      "outputs": [
        {
          "output_type": "display_data",
          "data": {
            "image/png": "[encoded data removed]",
            "text/plain": [
              "<Figure size 432x288 with 1 Axes>"
            ]
          },
          "metadata": {
            "tags": [],
            "needs_background": "light"
          }
        }
      ]
    },
    {
      "cell_type": "code",
      "metadata": {
        "id": "GFlv4gMiyhFx",
        "colab_type": "code",
        "colab": {
          "base_uri": "https://localhost:8080/",
          "height": 264
        },
        "outputId": "9ca70fd7-3919-4a2e-af17-510e84653b72"
      },
      "source": [
        "count_Class.plot(kind = 'pie',  autopct='%1.0f%%')\n",
        "plt.title('Pie chart')\n",
        "plt.ylabel('')\n",
        "plt.show()"
      ],
      "execution_count": 318,
      "outputs": [
        {
          "output_type": "display_data",
          "data": {
            "image/png": "[encoded data removed]",
            "text/plain": [
              "<Figure size 432x288 with 1 Axes>"
            ]
          },
          "metadata": {
            "tags": []
          }
        }
      ]
    },
    {
      "cell_type": "code",
      "metadata": {
        "id": "aprLykVvY7kN",
        "colab_type": "code",
        "colab": {}
      },
      "source": [
        "data.drop(['Unnamed: 0', 'label_num'],axis=1,inplace=True)"
      ],
      "execution_count": 319,
      "outputs": []
    },
    {
      "cell_type": "code",
      "metadata": {
        "id": "DgQYWkUKZShy",
        "colab_type": "code",
        "colab": {
          "base_uri": "https://localhost:8080/",
          "height": 204
        },
        "outputId": "1cd7cab3-35fb-41f5-bb9a-f1b349cf18a3"
      },
      "source": [
        "data.head()"
      ],
      "execution_count": 320,
      "outputs": [
        {
          "output_type": "execute_result",
          "data": {
            "text/html": [
              "<div>\n",
              "<style scoped>\n",
              "    .dataframe tbody tr th:only-of-type {\n",
              "        vertical-align: middle;\n",
              "    }\n",
              "\n",
              "    .dataframe tbody tr th {\n",
              "        vertical-align: top;\n",
              "    }\n",
              "\n",
              "    .dataframe thead th {\n",
              "        text-align: right;\n",
              "    }\n",
              "</style>\n",
              "<table border=\"1\" class=\"dataframe\">\n",
              "  <thead>\n",
              "    <tr style=\"text-align: right;\">\n",
              "      <th></th>\n",
              "      <th>label</th>\n",
              "      <th>text</th>\n",
              "    </tr>\n",
              "  </thead>\n",
              "  <tbody>\n",
              "    <tr>\n",
              "      <th>0</th>\n",
              "      <td>ham</td>\n",
              "      <td>Subject: enron methanol ; meter # : 988291\\r\\n...</td>\n",
              "    </tr>\n",
              "    <tr>\n",
              "      <th>1</th>\n",
              "      <td>ham</td>\n",
              "      <td>Subject: hpl nom for january 9 , 2001\\r\\n( see...</td>\n",
              "    </tr>\n",
              "    <tr>\n",
              "      <th>2</th>\n",
              "      <td>ham</td>\n",
              "      <td>Subject: neon retreat\\r\\nho ho ho , we ' re ar...</td>\n",
              "    </tr>\n",
              "    <tr>\n",
              "      <th>3</th>\n",
              "      <td>spam</td>\n",
              "      <td>Subject: photoshop , windows , office . cheap ...</td>\n",
              "    </tr>\n",
              "    <tr>\n",
              "      <th>4</th>\n",
              "      <td>ham</td>\n",
              "      <td>Subject: re : indian springs\\r\\nthis deal is t...</td>\n",
              "    </tr>\n",
              "  </tbody>\n",
              "</table>\n",
              "</div>"
            ],
            "text/plain": [
              "  label                                               text\n",
              "0   ham  Subject: enron methanol ; meter # : 988291\\r\\n...\n",
              "1   ham  Subject: hpl nom for january 9 , 2001\\r\\n( see...\n",
              "2   ham  Subject: neon retreat\\r\\nho ho ho , we ' re ar...\n",
              "3  spam  Subject: photoshop , windows , office . cheap ...\n",
              "4   ham  Subject: re : indian springs\\r\\nthis deal is t..."
            ]
          },
          "metadata": {
            "tags": []
          },
          "execution_count": 320
        }
      ]
    },
    {
      "cell_type": "code",
      "metadata": {
        "id": "-JZaEcBdZZYM",
        "colab_type": "code",
        "colab": {
          "base_uri": "https://localhost:8080/",
          "height": 69
        },
        "outputId": "6119e64e-d72d-4a50-b096-9d82ab0563a7"
      },
      "source": [
        "data.text[0]"
      ],
      "execution_count": 321,
      "outputs": [
        {
          "output_type": "execute_result",
          "data": {
            "application/vnd.google.colaboratory.intrinsic": {
              "type": "string"
            },
            "text/plain": [
              "\"Subject: enron methanol ; meter # : 988291\\r\\nthis is a follow up to the note i gave you on monday , 4 / 3 / 00 { preliminary\\r\\nflow data provided by daren } .\\r\\nplease override pop ' s daily volume { presently zero } to reflect daily\\r\\nactivity you can obtain from gas control .\\r\\nthis change is needed asap for economics purposes .\""
            ]
          },
          "metadata": {
            "tags": []
          },
          "execution_count": 321
        }
      ]
    },
    {
      "cell_type": "code",
      "metadata": {
        "id": "AfZpwdhfZgxi",
        "colab_type": "code",
        "colab": {
          "base_uri": "https://localhost:8080/",
          "height": 442
        },
        "outputId": "238a703b-35dd-4918-a413-c98be5eca649"
      },
      "source": [
        "dir(string)"
      ],
      "execution_count": 322,
      "outputs": [
        {
          "output_type": "execute_result",
          "data": {
            "text/plain": [
              "['Formatter',\n",
              " 'Template',\n",
              " '_ChainMap',\n",
              " '_TemplateMetaclass',\n",
              " '__all__',\n",
              " '__builtins__',\n",
              " '__cached__',\n",
              " '__doc__',\n",
              " '__file__',\n",
              " '__loader__',\n",
              " '__name__',\n",
              " '__package__',\n",
              " '__spec__',\n",
              " '_re',\n",
              " '_string',\n",
              " 'ascii_letters',\n",
              " 'ascii_lowercase',\n",
              " 'ascii_uppercase',\n",
              " 'capwords',\n",
              " 'digits',\n",
              " 'hexdigits',\n",
              " 'octdigits',\n",
              " 'printable',\n",
              " 'punctuation',\n",
              " 'whitespace']"
            ]
          },
          "metadata": {
            "tags": []
          },
          "execution_count": 322
        }
      ]
    },
    {
      "cell_type": "code",
      "metadata": {
        "id": "6nJ6CdFGZjuR",
        "colab_type": "code",
        "colab": {
          "base_uri": "https://localhost:8080/",
          "height": 35
        },
        "outputId": "9360420e-4c77-49d3-90e9-75544128418f"
      },
      "source": [
        "string.punctuation"
      ],
      "execution_count": 323,
      "outputs": [
        {
          "output_type": "execute_result",
          "data": {
            "application/vnd.google.colaboratory.intrinsic": {
              "type": "string"
            },
            "text/plain": [
              "'!\"#$%&\\'()*+,-./:;<=>?@[\\\\]^_`{|}~'"
            ]
          },
          "metadata": {
            "tags": []
          },
          "execution_count": 323
        }
      ]
    },
    {
      "cell_type": "code",
      "metadata": {
        "id": "H9yuEY0GZqCb",
        "colab_type": "code",
        "colab": {}
      },
      "source": [
        "def remove_punctuation(text):\n",
        "    new_text=''.join([char for char in text if char not in string.punctuation])\n",
        "    return new_text"
      ],
      "execution_count": 324,
      "outputs": []
    },
    {
      "cell_type": "code",
      "metadata": {
        "id": "5HuwvwX-ZweW",
        "colab_type": "code",
        "colab": {}
      },
      "source": [
        "data['new_text']=data['text'].apply(lambda row : remove_punctuation(row))"
      ],
      "execution_count": 325,
      "outputs": []
    },
    {
      "cell_type": "code",
      "metadata": {
        "id": "ILwZ9No4Z0V0",
        "colab_type": "code",
        "colab": {
          "base_uri": "https://localhost:8080/",
          "height": 204
        },
        "outputId": "d6ff239d-b019-462b-d1b2-b7d1e52a7d10"
      },
      "source": [
        "data.head()"
      ],
      "execution_count": 326,
      "outputs": [
        {
          "output_type": "execute_result",
          "data": {
            "text/html": [
              "<div>\n",
              "<style scoped>\n",
              "    .dataframe tbody tr th:only-of-type {\n",
              "        vertical-align: middle;\n",
              "    }\n",
              "\n",
              "    .dataframe tbody tr th {\n",
              "        vertical-align: top;\n",
              "    }\n",
              "\n",
              "    .dataframe thead th {\n",
              "        text-align: right;\n",
              "    }\n",
              "</style>\n",
              "<table border=\"1\" class=\"dataframe\">\n",
              "  <thead>\n",
              "    <tr style=\"text-align: right;\">\n",
              "      <th></th>\n",
              "      <th>label</th>\n",
              "      <th>text</th>\n",
              "      <th>new_text</th>\n",
              "    </tr>\n",
              "  </thead>\n",
              "  <tbody>\n",
              "    <tr>\n",
              "      <th>0</th>\n",
              "      <td>ham</td>\n",
              "      <td>Subject: enron methanol ; meter # : 988291\\r\\n...</td>\n",
              "      <td>Subject enron methanol  meter   988291\\r\\nthis...</td>\n",
              "    </tr>\n",
              "    <tr>\n",
              "      <th>1</th>\n",
              "      <td>ham</td>\n",
              "      <td>Subject: hpl nom for january 9 , 2001\\r\\n( see...</td>\n",
              "      <td>Subject hpl nom for january 9  2001\\r\\n see at...</td>\n",
              "    </tr>\n",
              "    <tr>\n",
              "      <th>2</th>\n",
              "      <td>ham</td>\n",
              "      <td>Subject: neon retreat\\r\\nho ho ho , we ' re ar...</td>\n",
              "      <td>Subject neon retreat\\r\\nho ho ho  we  re aroun...</td>\n",
              "    </tr>\n",
              "    <tr>\n",
              "      <th>3</th>\n",
              "      <td>spam</td>\n",
              "      <td>Subject: photoshop , windows , office . cheap ...</td>\n",
              "      <td>Subject photoshop  windows  office  cheap  mai...</td>\n",
              "    </tr>\n",
              "    <tr>\n",
              "      <th>4</th>\n",
              "      <td>ham</td>\n",
              "      <td>Subject: re : indian springs\\r\\nthis deal is t...</td>\n",
              "      <td>Subject re  indian springs\\r\\nthis deal is to ...</td>\n",
              "    </tr>\n",
              "  </tbody>\n",
              "</table>\n",
              "</div>"
            ],
            "text/plain": [
              "  label  ...                                           new_text\n",
              "0   ham  ...  Subject enron methanol  meter   988291\\r\\nthis...\n",
              "1   ham  ...  Subject hpl nom for january 9  2001\\r\\n see at...\n",
              "2   ham  ...  Subject neon retreat\\r\\nho ho ho  we  re aroun...\n",
              "3  spam  ...  Subject photoshop  windows  office  cheap  mai...\n",
              "4   ham  ...  Subject re  indian springs\\r\\nthis deal is to ...\n",
              "\n",
              "[5 rows x 3 columns]"
            ]
          },
          "metadata": {
            "tags": []
          },
          "execution_count": 326
        }
      ]
    },
    {
      "cell_type": "code",
      "metadata": {
        "id": "tZtPovlkZ-5r",
        "colab_type": "code",
        "colab": {
          "base_uri": "https://localhost:8080/",
          "height": 69
        },
        "outputId": "b67624a2-3a60-4322-c43f-52b12fc7ea99"
      },
      "source": [
        "data.new_text[0]"
      ],
      "execution_count": 327,
      "outputs": [
        {
          "output_type": "execute_result",
          "data": {
            "application/vnd.google.colaboratory.intrinsic": {
              "type": "string"
            },
            "text/plain": [
              "'Subject enron methanol  meter   988291\\r\\nthis is a follow up to the note i gave you on monday  4  3  00  preliminary\\r\\nflow data provided by daren  \\r\\nplease override pop  s daily volume  presently zero  to reflect daily\\r\\nactivity you can obtain from gas control \\r\\nthis change is needed asap for economics purposes '"
            ]
          },
          "metadata": {
            "tags": []
          },
          "execution_count": 327
        }
      ]
    },
    {
      "cell_type": "code",
      "metadata": {
        "id": "Zlk07Qppclnx",
        "colab_type": "code",
        "colab": {
          "base_uri": "https://localhost:8080/",
          "height": 171
        },
        "outputId": "a68920ba-e6f9-44d0-c974-d222f4907023"
      },
      "source": [
        "print(data.text[0])\n",
        "data.new_text[0]"
      ],
      "execution_count": 328,
      "outputs": [
        {
          "output_type": "stream",
          "text": [
            "Subject: enron methanol ; meter # : 988291\r\n",
            "this is a follow up to the note i gave you on monday , 4 / 3 / 00 { preliminary\r\n",
            "flow data provided by daren } .\r\n",
            "please override pop ' s daily volume { presently zero } to reflect daily\r\n",
            "activity you can obtain from gas control .\r\n",
            "this change is needed asap for economics purposes .\n"
          ],
          "name": "stdout"
        },
        {
          "output_type": "execute_result",
          "data": {
            "application/vnd.google.colaboratory.intrinsic": {
              "type": "string"
            },
            "text/plain": [
              "'Subject enron methanol  meter   988291\\r\\nthis is a follow up to the note i gave you on monday  4  3  00  preliminary\\r\\nflow data provided by daren  \\r\\nplease override pop  s daily volume  presently zero  to reflect daily\\r\\nactivity you can obtain from gas control \\r\\nthis change is needed asap for economics purposes '"
            ]
          },
          "metadata": {
            "tags": []
          },
          "execution_count": 328
        }
      ]
    },
    {
      "cell_type": "code",
      "metadata": {
        "id": "TC_Kw9cXgg0c",
        "colab_type": "code",
        "colab": {}
      },
      "source": [
        "def tokenize(text):\n",
        "    tokens=re.split('\\W+',text)\n",
        "    return tokens "
      ],
      "execution_count": 329,
      "outputs": []
    },
    {
      "cell_type": "code",
      "metadata": {
        "id": "keE3uISxgl8z",
        "colab_type": "code",
        "colab": {
          "base_uri": "https://localhost:8080/",
          "height": 289
        },
        "outputId": "1c0c0611-9d83-404e-cde9-3bf4ffa96257"
      },
      "source": [
        "data['tokenized_text']=data['new_text'].apply(lambda row : tokenize(row.lower()))\n",
        "data.head()"
      ],
      "execution_count": 330,
      "outputs": [
        {
          "output_type": "execute_result",
          "data": {
            "text/html": [
              "<div>\n",
              "<style scoped>\n",
              "    .dataframe tbody tr th:only-of-type {\n",
              "        vertical-align: middle;\n",
              "    }\n",
              "\n",
              "    .dataframe tbody tr th {\n",
              "        vertical-align: top;\n",
              "    }\n",
              "\n",
              "    .dataframe thead th {\n",
              "        text-align: right;\n",
              "    }\n",
              "</style>\n",
              "<table border=\"1\" class=\"dataframe\">\n",
              "  <thead>\n",
              "    <tr style=\"text-align: right;\">\n",
              "      <th></th>\n",
              "      <th>label</th>\n",
              "      <th>text</th>\n",
              "      <th>new_text</th>\n",
              "      <th>tokenized_text</th>\n",
              "    </tr>\n",
              "  </thead>\n",
              "  <tbody>\n",
              "    <tr>\n",
              "      <th>0</th>\n",
              "      <td>ham</td>\n",
              "      <td>Subject: enron methanol ; meter # : 988291\\r\\n...</td>\n",
              "      <td>Subject enron methanol  meter   988291\\r\\nthis...</td>\n",
              "      <td>[subject, enron, methanol, meter, 988291, this...</td>\n",
              "    </tr>\n",
              "    <tr>\n",
              "      <th>1</th>\n",
              "      <td>ham</td>\n",
              "      <td>Subject: hpl nom for january 9 , 2001\\r\\n( see...</td>\n",
              "      <td>Subject hpl nom for january 9  2001\\r\\n see at...</td>\n",
              "      <td>[subject, hpl, nom, for, january, 9, 2001, see...</td>\n",
              "    </tr>\n",
              "    <tr>\n",
              "      <th>2</th>\n",
              "      <td>ham</td>\n",
              "      <td>Subject: neon retreat\\r\\nho ho ho , we ' re ar...</td>\n",
              "      <td>Subject neon retreat\\r\\nho ho ho  we  re aroun...</td>\n",
              "      <td>[subject, neon, retreat, ho, ho, ho, we, re, a...</td>\n",
              "    </tr>\n",
              "    <tr>\n",
              "      <th>3</th>\n",
              "      <td>spam</td>\n",
              "      <td>Subject: photoshop , windows , office . cheap ...</td>\n",
              "      <td>Subject photoshop  windows  office  cheap  mai...</td>\n",
              "      <td>[subject, photoshop, windows, office, cheap, m...</td>\n",
              "    </tr>\n",
              "    <tr>\n",
              "      <th>4</th>\n",
              "      <td>ham</td>\n",
              "      <td>Subject: re : indian springs\\r\\nthis deal is t...</td>\n",
              "      <td>Subject re  indian springs\\r\\nthis deal is to ...</td>\n",
              "      <td>[subject, re, indian, springs, this, deal, is,...</td>\n",
              "    </tr>\n",
              "  </tbody>\n",
              "</table>\n",
              "</div>"
            ],
            "text/plain": [
              "  label  ...                                     tokenized_text\n",
              "0   ham  ...  [subject, enron, methanol, meter, 988291, this...\n",
              "1   ham  ...  [subject, hpl, nom, for, january, 9, 2001, see...\n",
              "2   ham  ...  [subject, neon, retreat, ho, ho, ho, we, re, a...\n",
              "3  spam  ...  [subject, photoshop, windows, office, cheap, m...\n",
              "4   ham  ...  [subject, re, indian, springs, this, deal, is,...\n",
              "\n",
              "[5 rows x 4 columns]"
            ]
          },
          "metadata": {
            "tags": []
          },
          "execution_count": 330
        }
      ]
    },
    {
      "cell_type": "code",
      "metadata": {
        "id": "Pv7-DKhygvbA",
        "colab_type": "code",
        "colab": {
          "base_uri": "https://localhost:8080/",
          "height": 51
        },
        "outputId": "5752e7ad-2bfe-433d-98f1-d202a8526ad9"
      },
      "source": [
        "import nltk\n",
        "nltk.download('stopwords')\n",
        "stopwords=nltk.corpus.stopwords.words('english')\n",
        "#stopwords[:5]"
      ],
      "execution_count": 331,
      "outputs": [
        {
          "output_type": "stream",
          "text": [
            "[nltk_data] Downloading package stopwords to /root/nltk_data...\n",
            "[nltk_data]   Package stopwords is already up-to-date!\n"
          ],
          "name": "stdout"
        }
      ]
    },
    {
      "cell_type": "code",
      "metadata": {
        "id": "bKGfw6M8gzUu",
        "colab_type": "code",
        "colab": {}
      },
      "source": [
        "def remove_stopwords(text):\n",
        "    clean_text=[word for word in text if word not in stopwords]\n",
        "    return clean_text "
      ],
      "execution_count": 332,
      "outputs": []
    },
    {
      "cell_type": "code",
      "metadata": {
        "id": "xkDZC3ifg5ia",
        "colab_type": "code",
        "colab": {
          "base_uri": "https://localhost:8080/",
          "height": 289
        },
        "outputId": "e1e6397a-0921-4c86-f535-8cc092307773"
      },
      "source": [
        "data['clean_text']=data['tokenized_text'].apply(lambda row : remove_stopwords(row))\n",
        "data.head()"
      ],
      "execution_count": 333,
      "outputs": [
        {
          "output_type": "execute_result",
          "data": {
            "text/html": [
              "<div>\n",
              "<style scoped>\n",
              "    .dataframe tbody tr th:only-of-type {\n",
              "        vertical-align: middle;\n",
              "    }\n",
              "\n",
              "    .dataframe tbody tr th {\n",
              "        vertical-align: top;\n",
              "    }\n",
              "\n",
              "    .dataframe thead th {\n",
              "        text-align: right;\n",
              "    }\n",
              "</style>\n",
              "<table border=\"1\" class=\"dataframe\">\n",
              "  <thead>\n",
              "    <tr style=\"text-align: right;\">\n",
              "      <th></th>\n",
              "      <th>label</th>\n",
              "      <th>text</th>\n",
              "      <th>new_text</th>\n",
              "      <th>tokenized_text</th>\n",
              "      <th>clean_text</th>\n",
              "    </tr>\n",
              "  </thead>\n",
              "  <tbody>\n",
              "    <tr>\n",
              "      <th>0</th>\n",
              "      <td>ham</td>\n",
              "      <td>Subject: enron methanol ; meter # : 988291\\r\\n...</td>\n",
              "      <td>Subject enron methanol  meter   988291\\r\\nthis...</td>\n",
              "      <td>[subject, enron, methanol, meter, 988291, this...</td>\n",
              "      <td>[subject, enron, methanol, meter, 988291, foll...</td>\n",
              "    </tr>\n",
              "    <tr>\n",
              "      <th>1</th>\n",
              "      <td>ham</td>\n",
              "      <td>Subject: hpl nom for january 9 , 2001\\r\\n( see...</td>\n",
              "      <td>Subject hpl nom for january 9  2001\\r\\n see at...</td>\n",
              "      <td>[subject, hpl, nom, for, january, 9, 2001, see...</td>\n",
              "      <td>[subject, hpl, nom, january, 9, 2001, see, att...</td>\n",
              "    </tr>\n",
              "    <tr>\n",
              "      <th>2</th>\n",
              "      <td>ham</td>\n",
              "      <td>Subject: neon retreat\\r\\nho ho ho , we ' re ar...</td>\n",
              "      <td>Subject neon retreat\\r\\nho ho ho  we  re aroun...</td>\n",
              "      <td>[subject, neon, retreat, ho, ho, ho, we, re, a...</td>\n",
              "      <td>[subject, neon, retreat, ho, ho, ho, around, w...</td>\n",
              "    </tr>\n",
              "    <tr>\n",
              "      <th>3</th>\n",
              "      <td>spam</td>\n",
              "      <td>Subject: photoshop , windows , office . cheap ...</td>\n",
              "      <td>Subject photoshop  windows  office  cheap  mai...</td>\n",
              "      <td>[subject, photoshop, windows, office, cheap, m...</td>\n",
              "      <td>[subject, photoshop, windows, office, cheap, m...</td>\n",
              "    </tr>\n",
              "    <tr>\n",
              "      <th>4</th>\n",
              "      <td>ham</td>\n",
              "      <td>Subject: re : indian springs\\r\\nthis deal is t...</td>\n",
              "      <td>Subject re  indian springs\\r\\nthis deal is to ...</td>\n",
              "      <td>[subject, re, indian, springs, this, deal, is,...</td>\n",
              "      <td>[subject, indian, springs, deal, book, teco, p...</td>\n",
              "    </tr>\n",
              "  </tbody>\n",
              "</table>\n",
              "</div>"
            ],
            "text/plain": [
              "  label  ...                                         clean_text\n",
              "0   ham  ...  [subject, enron, methanol, meter, 988291, foll...\n",
              "1   ham  ...  [subject, hpl, nom, january, 9, 2001, see, att...\n",
              "2   ham  ...  [subject, neon, retreat, ho, ho, ho, around, w...\n",
              "3  spam  ...  [subject, photoshop, windows, office, cheap, m...\n",
              "4   ham  ...  [subject, indian, springs, deal, book, teco, p...\n",
              "\n",
              "[5 rows x 5 columns]"
            ]
          },
          "metadata": {
            "tags": []
          },
          "execution_count": 333
        }
      ]
    },
    {
      "cell_type": "code",
      "metadata": {
        "id": "WHGfwtDkhKwm",
        "colab_type": "code",
        "colab": {}
      },
      "source": [
        "bannedWord = ['subject']\n",
        "def remove_bannedWord(clean_text):\n",
        "    fix_text=[word for word in clean_text if word not in bannedWord]\n",
        "    return fix_text \n",
        "data['fix_text']=data['clean_text'].apply(lambda row : remove_bannedWord(row))"
      ],
      "execution_count": 334,
      "outputs": []
    },
    {
      "cell_type": "code",
      "metadata": {
        "id": "f5NCgFb-nC_r",
        "colab_type": "code",
        "colab": {
          "base_uri": "https://localhost:8080/",
          "height": 374
        },
        "outputId": "a5768977-dbf9-4a29-da18-b0be63794d9f"
      },
      "source": [
        "data.head()"
      ],
      "execution_count": 335,
      "outputs": [
        {
          "output_type": "execute_result",
          "data": {
            "text/html": [
              "<div>\n",
              "<style scoped>\n",
              "    .dataframe tbody tr th:only-of-type {\n",
              "        vertical-align: middle;\n",
              "    }\n",
              "\n",
              "    .dataframe tbody tr th {\n",
              "        vertical-align: top;\n",
              "    }\n",
              "\n",
              "    .dataframe thead th {\n",
              "        text-align: right;\n",
              "    }\n",
              "</style>\n",
              "<table border=\"1\" class=\"dataframe\">\n",
              "  <thead>\n",
              "    <tr style=\"text-align: right;\">\n",
              "      <th></th>\n",
              "      <th>label</th>\n",
              "      <th>text</th>\n",
              "      <th>new_text</th>\n",
              "      <th>tokenized_text</th>\n",
              "      <th>clean_text</th>\n",
              "      <th>fix_text</th>\n",
              "    </tr>\n",
              "  </thead>\n",
              "  <tbody>\n",
              "    <tr>\n",
              "      <th>0</th>\n",
              "      <td>ham</td>\n",
              "      <td>Subject: enron methanol ; meter # : 988291\\r\\n...</td>\n",
              "      <td>Subject enron methanol  meter   988291\\r\\nthis...</td>\n",
              "      <td>[subject, enron, methanol, meter, 988291, this...</td>\n",
              "      <td>[subject, enron, methanol, meter, 988291, foll...</td>\n",
              "      <td>[enron, methanol, meter, 988291, follow, note,...</td>\n",
              "    </tr>\n",
              "    <tr>\n",
              "      <th>1</th>\n",
              "      <td>ham</td>\n",
              "      <td>Subject: hpl nom for january 9 , 2001\\r\\n( see...</td>\n",
              "      <td>Subject hpl nom for january 9  2001\\r\\n see at...</td>\n",
              "      <td>[subject, hpl, nom, for, january, 9, 2001, see...</td>\n",
              "      <td>[subject, hpl, nom, january, 9, 2001, see, att...</td>\n",
              "      <td>[hpl, nom, january, 9, 2001, see, attached, fi...</td>\n",
              "    </tr>\n",
              "    <tr>\n",
              "      <th>2</th>\n",
              "      <td>ham</td>\n",
              "      <td>Subject: neon retreat\\r\\nho ho ho , we ' re ar...</td>\n",
              "      <td>Subject neon retreat\\r\\nho ho ho  we  re aroun...</td>\n",
              "      <td>[subject, neon, retreat, ho, ho, ho, we, re, a...</td>\n",
              "      <td>[subject, neon, retreat, ho, ho, ho, around, w...</td>\n",
              "      <td>[neon, retreat, ho, ho, ho, around, wonderful,...</td>\n",
              "    </tr>\n",
              "    <tr>\n",
              "      <th>3</th>\n",
              "      <td>spam</td>\n",
              "      <td>Subject: photoshop , windows , office . cheap ...</td>\n",
              "      <td>Subject photoshop  windows  office  cheap  mai...</td>\n",
              "      <td>[subject, photoshop, windows, office, cheap, m...</td>\n",
              "      <td>[subject, photoshop, windows, office, cheap, m...</td>\n",
              "      <td>[photoshop, windows, office, cheap, main, tren...</td>\n",
              "    </tr>\n",
              "    <tr>\n",
              "      <th>4</th>\n",
              "      <td>ham</td>\n",
              "      <td>Subject: re : indian springs\\r\\nthis deal is t...</td>\n",
              "      <td>Subject re  indian springs\\r\\nthis deal is to ...</td>\n",
              "      <td>[subject, re, indian, springs, this, deal, is,...</td>\n",
              "      <td>[subject, indian, springs, deal, book, teco, p...</td>\n",
              "      <td>[indian, springs, deal, book, teco, pvr, reven...</td>\n",
              "    </tr>\n",
              "  </tbody>\n",
              "</table>\n",
              "</div>"
            ],
            "text/plain": [
              "  label  ...                                           fix_text\n",
              "0   ham  ...  [enron, methanol, meter, 988291, follow, note,...\n",
              "1   ham  ...  [hpl, nom, january, 9, 2001, see, attached, fi...\n",
              "2   ham  ...  [neon, retreat, ho, ho, ho, around, wonderful,...\n",
              "3  spam  ...  [photoshop, windows, office, cheap, main, tren...\n",
              "4   ham  ...  [indian, springs, deal, book, teco, pvr, reven...\n",
              "\n",
              "[5 rows x 6 columns]"
            ]
          },
          "metadata": {
            "tags": []
          },
          "execution_count": 335
        }
      ]
    },
    {
      "cell_type": "code",
      "metadata": {
        "id": "AblWbL37nT5N",
        "colab_type": "code",
        "colab": {}
      },
      "source": [
        "ps = nltk.PorterStemmer()"
      ],
      "execution_count": 336,
      "outputs": []
    },
    {
      "cell_type": "code",
      "metadata": {
        "id": "_oodMjvEnV3W",
        "colab_type": "code",
        "colab": {
          "base_uri": "https://localhost:8080/",
          "height": 969
        },
        "outputId": "a1b74d44-065d-4a87-e6b1-32b825c35bb6"
      },
      "source": [
        "dir(ps)"
      ],
      "execution_count": 275,
      "outputs": [
        {
          "output_type": "execute_result",
          "data": {
            "text/plain": [
              "['MARTIN_EXTENSIONS',\n",
              " 'NLTK_EXTENSIONS',\n",
              " 'ORIGINAL_ALGORITHM',\n",
              " '__abstractmethods__',\n",
              " '__class__',\n",
              " '__delattr__',\n",
              " '__dict__',\n",
              " '__dir__',\n",
              " '__doc__',\n",
              " '__eq__',\n",
              " '__format__',\n",
              " '__ge__',\n",
              " '__getattribute__',\n",
              " '__gt__',\n",
              " '__hash__',\n",
              " '__init__',\n",
              " '__init_subclass__',\n",
              " '__le__',\n",
              " '__lt__',\n",
              " '__module__',\n",
              " '__ne__',\n",
              " '__new__',\n",
              " '__reduce__',\n",
              " '__reduce_ex__',\n",
              " '__repr__',\n",
              " '__setattr__',\n",
              " '__sizeof__',\n",
              " '__str__',\n",
              " '__subclasshook__',\n",
              " '__unicode__',\n",
              " '__weakref__',\n",
              " '_abc_cache',\n",
              " '_abc_negative_cache',\n",
              " '_abc_negative_cache_version',\n",
              " '_abc_registry',\n",
              " '_apply_rule_list',\n",
              " '_contains_vowel',\n",
              " '_ends_cvc',\n",
              " '_ends_double_consonant',\n",
              " '_has_positive_measure',\n",
              " '_is_consonant',\n",
              " '_measure',\n",
              " '_replace_suffix',\n",
              " '_step1a',\n",
              " '_step1b',\n",
              " '_step1c',\n",
              " '_step2',\n",
              " '_step3',\n",
              " '_step4',\n",
              " '_step5a',\n",
              " '_step5b',\n",
              " 'mode',\n",
              " 'pool',\n",
              " 'stem',\n",
              " 'unicode_repr',\n",
              " 'vowels']"
            ]
          },
          "metadata": {
            "tags": []
          },
          "execution_count": 275
        }
      ]
    },
    {
      "cell_type": "code",
      "metadata": {
        "id": "xHLam8Fvnbh7",
        "colab_type": "code",
        "colab": {}
      },
      "source": [
        "def stemming(fix_text):\n",
        "    stemmed_text=[ps.stem(word) for word in fix_text]\n",
        "    return stemmed_text"
      ],
      "execution_count": 337,
      "outputs": []
    },
    {
      "cell_type": "code",
      "metadata": {
        "id": "EpSePwodnu8W",
        "colab_type": "code",
        "colab": {
          "base_uri": "https://localhost:8080/",
          "height": 204
        },
        "outputId": "2e080a4f-2ceb-475e-b3ff-92371300ea97"
      },
      "source": [
        "data['stemmed_text']=data.fix_text.apply(lambda row : stemming(row))\n",
        "data[['text','stemmed_text']].head()"
      ],
      "execution_count": 338,
      "outputs": [
        {
          "output_type": "execute_result",
          "data": {
            "text/html": [
              "<div>\n",
              "<style scoped>\n",
              "    .dataframe tbody tr th:only-of-type {\n",
              "        vertical-align: middle;\n",
              "    }\n",
              "\n",
              "    .dataframe tbody tr th {\n",
              "        vertical-align: top;\n",
              "    }\n",
              "\n",
              "    .dataframe thead th {\n",
              "        text-align: right;\n",
              "    }\n",
              "</style>\n",
              "<table border=\"1\" class=\"dataframe\">\n",
              "  <thead>\n",
              "    <tr style=\"text-align: right;\">\n",
              "      <th></th>\n",
              "      <th>text</th>\n",
              "      <th>stemmed_text</th>\n",
              "    </tr>\n",
              "  </thead>\n",
              "  <tbody>\n",
              "    <tr>\n",
              "      <th>0</th>\n",
              "      <td>Subject: enron methanol ; meter # : 988291\\r\\n...</td>\n",
              "      <td>[enron, methanol, meter, 988291, follow, note,...</td>\n",
              "    </tr>\n",
              "    <tr>\n",
              "      <th>1</th>\n",
              "      <td>Subject: hpl nom for january 9 , 2001\\r\\n( see...</td>\n",
              "      <td>[hpl, nom, januari, 9, 2001, see, attach, file...</td>\n",
              "    </tr>\n",
              "    <tr>\n",
              "      <th>2</th>\n",
              "      <td>Subject: neon retreat\\r\\nho ho ho , we ' re ar...</td>\n",
              "      <td>[neon, retreat, ho, ho, ho, around, wonder, ti...</td>\n",
              "    </tr>\n",
              "    <tr>\n",
              "      <th>3</th>\n",
              "      <td>Subject: photoshop , windows , office . cheap ...</td>\n",
              "      <td>[photoshop, window, offic, cheap, main, trend,...</td>\n",
              "    </tr>\n",
              "    <tr>\n",
              "      <th>4</th>\n",
              "      <td>Subject: re : indian springs\\r\\nthis deal is t...</td>\n",
              "      <td>[indian, spring, deal, book, teco, pvr, revenu...</td>\n",
              "    </tr>\n",
              "  </tbody>\n",
              "</table>\n",
              "</div>"
            ],
            "text/plain": [
              "                                                text                                       stemmed_text\n",
              "0  Subject: enron methanol ; meter # : 988291\\r\\n...  [enron, methanol, meter, 988291, follow, note,...\n",
              "1  Subject: hpl nom for january 9 , 2001\\r\\n( see...  [hpl, nom, januari, 9, 2001, see, attach, file...\n",
              "2  Subject: neon retreat\\r\\nho ho ho , we ' re ar...  [neon, retreat, ho, ho, ho, around, wonder, ti...\n",
              "3  Subject: photoshop , windows , office . cheap ...  [photoshop, window, offic, cheap, main, trend,...\n",
              "4  Subject: re : indian springs\\r\\nthis deal is t...  [indian, spring, deal, book, teco, pvr, revenu..."
            ]
          },
          "metadata": {
            "tags": []
          },
          "execution_count": 338
        }
      ]
    },
    {
      "cell_type": "code",
      "metadata": {
        "id": "cABcqYQ9oACu",
        "colab_type": "code",
        "colab": {}
      },
      "source": [
        "def get_final_text(stemmed_text):\n",
        "    final_text=\" \".join([word for word in stemmed_text])\n",
        "    return final_text"
      ],
      "execution_count": 339,
      "outputs": []
    },
    {
      "cell_type": "code",
      "metadata": {
        "id": "GxdRnjDqoFjB",
        "colab_type": "code",
        "colab": {
          "base_uri": "https://localhost:8080/",
          "height": 459
        },
        "outputId": "5dc527eb-f9f5-4216-a99c-2644ddb8e7c2"
      },
      "source": [
        "data['final_text']=data.stemmed_text.apply(lambda row : get_final_text(row))\n",
        "data.head()"
      ],
      "execution_count": 340,
      "outputs": [
        {
          "output_type": "execute_result",
          "data": {
            "text/html": [
              "<div>\n",
              "<style scoped>\n",
              "    .dataframe tbody tr th:only-of-type {\n",
              "        vertical-align: middle;\n",
              "    }\n",
              "\n",
              "    .dataframe tbody tr th {\n",
              "        vertical-align: top;\n",
              "    }\n",
              "\n",
              "    .dataframe thead th {\n",
              "        text-align: right;\n",
              "    }\n",
              "</style>\n",
              "<table border=\"1\" class=\"dataframe\">\n",
              "  <thead>\n",
              "    <tr style=\"text-align: right;\">\n",
              "      <th></th>\n",
              "      <th>label</th>\n",
              "      <th>text</th>\n",
              "      <th>new_text</th>\n",
              "      <th>tokenized_text</th>\n",
              "      <th>clean_text</th>\n",
              "      <th>fix_text</th>\n",
              "      <th>stemmed_text</th>\n",
              "      <th>final_text</th>\n",
              "    </tr>\n",
              "  </thead>\n",
              "  <tbody>\n",
              "    <tr>\n",
              "      <th>0</th>\n",
              "      <td>ham</td>\n",
              "      <td>Subject: enron methanol ; meter # : 988291\\r\\n...</td>\n",
              "      <td>Subject enron methanol  meter   988291\\r\\nthis...</td>\n",
              "      <td>[subject, enron, methanol, meter, 988291, this...</td>\n",
              "      <td>[subject, enron, methanol, meter, 988291, foll...</td>\n",
              "      <td>[enron, methanol, meter, 988291, follow, note,...</td>\n",
              "      <td>[enron, methanol, meter, 988291, follow, note,...</td>\n",
              "      <td>enron methanol meter 988291 follow note gave m...</td>\n",
              "    </tr>\n",
              "    <tr>\n",
              "      <th>1</th>\n",
              "      <td>ham</td>\n",
              "      <td>Subject: hpl nom for january 9 , 2001\\r\\n( see...</td>\n",
              "      <td>Subject hpl nom for january 9  2001\\r\\n see at...</td>\n",
              "      <td>[subject, hpl, nom, for, january, 9, 2001, see...</td>\n",
              "      <td>[subject, hpl, nom, january, 9, 2001, see, att...</td>\n",
              "      <td>[hpl, nom, january, 9, 2001, see, attached, fi...</td>\n",
              "      <td>[hpl, nom, januari, 9, 2001, see, attach, file...</td>\n",
              "      <td>hpl nom januari 9 2001 see attach file hplnol ...</td>\n",
              "    </tr>\n",
              "    <tr>\n",
              "      <th>2</th>\n",
              "      <td>ham</td>\n",
              "      <td>Subject: neon retreat\\r\\nho ho ho , we ' re ar...</td>\n",
              "      <td>Subject neon retreat\\r\\nho ho ho  we  re aroun...</td>\n",
              "      <td>[subject, neon, retreat, ho, ho, ho, we, re, a...</td>\n",
              "      <td>[subject, neon, retreat, ho, ho, ho, around, w...</td>\n",
              "      <td>[neon, retreat, ho, ho, ho, around, wonderful,...</td>\n",
              "      <td>[neon, retreat, ho, ho, ho, around, wonder, ti...</td>\n",
              "      <td>neon retreat ho ho ho around wonder time year ...</td>\n",
              "    </tr>\n",
              "    <tr>\n",
              "      <th>3</th>\n",
              "      <td>spam</td>\n",
              "      <td>Subject: photoshop , windows , office . cheap ...</td>\n",
              "      <td>Subject photoshop  windows  office  cheap  mai...</td>\n",
              "      <td>[subject, photoshop, windows, office, cheap, m...</td>\n",
              "      <td>[subject, photoshop, windows, office, cheap, m...</td>\n",
              "      <td>[photoshop, windows, office, cheap, main, tren...</td>\n",
              "      <td>[photoshop, window, offic, cheap, main, trend,...</td>\n",
              "      <td>photoshop window offic cheap main trend abas d...</td>\n",
              "    </tr>\n",
              "    <tr>\n",
              "      <th>4</th>\n",
              "      <td>ham</td>\n",
              "      <td>Subject: re : indian springs\\r\\nthis deal is t...</td>\n",
              "      <td>Subject re  indian springs\\r\\nthis deal is to ...</td>\n",
              "      <td>[subject, re, indian, springs, this, deal, is,...</td>\n",
              "      <td>[subject, indian, springs, deal, book, teco, p...</td>\n",
              "      <td>[indian, springs, deal, book, teco, pvr, reven...</td>\n",
              "      <td>[indian, spring, deal, book, teco, pvr, revenu...</td>\n",
              "      <td>indian spring deal book teco pvr revenu unders...</td>\n",
              "    </tr>\n",
              "  </tbody>\n",
              "</table>\n",
              "</div>"
            ],
            "text/plain": [
              "  label  ...                                         final_text\n",
              "0   ham  ...  enron methanol meter 988291 follow note gave m...\n",
              "1   ham  ...  hpl nom januari 9 2001 see attach file hplnol ...\n",
              "2   ham  ...  neon retreat ho ho ho around wonder time year ...\n",
              "3  spam  ...  photoshop window offic cheap main trend abas d...\n",
              "4   ham  ...  indian spring deal book teco pvr revenu unders...\n",
              "\n",
              "[5 rows x 8 columns]"
            ]
          },
          "metadata": {
            "tags": []
          },
          "execution_count": 340
        }
      ]
    },
    {
      "cell_type": "markdown",
      "metadata": {
        "id": "1x4OH-cdob4g",
        "colab_type": "text"
      },
      "source": [
        "**MACHINE LEARNING**"
      ]
    },
    {
      "cell_type": "code",
      "metadata": {
        "id": "T__62xcToTvi",
        "colab_type": "code",
        "colab": {}
      },
      "source": [
        "import numpy as np\n",
        "import pandas as pd\n",
        "import matplotlib.pyplot as plt\n",
        "from collections import Counter\n",
        "from sklearn import feature_extraction, model_selection, naive_bayes, metrics, svm\n",
        "from IPython.display import Image\n",
        "import warnings\n",
        "warnings.filterwarnings(\"ignore\")\n",
        "%matplotlib inline  "
      ],
      "execution_count": 341,
      "outputs": []
    },
    {
      "cell_type": "code",
      "metadata": {
        "id": "Ebr-Xfkgoj3e",
        "colab_type": "code",
        "colab": {}
      },
      "source": [
        "count1 = Counter(\" \".join(data[data['label']=='ham'][\"final_text\"]).split()).most_common(20)\n",
        "df1 = pd.DataFrame.from_dict(count1)\n",
        "df1 = df1.rename(columns={0: \"words in non-spam\", 1 : \"count\"})\n",
        "count2 = Counter(\" \".join(data[data['label']=='spam'][\"final_text\"]).split()).most_common(20)\n",
        "df2 = pd.DataFrame.from_dict(count2)\n",
        "df2 = df2.rename(columns={0: \"words in spam\", 1 : \"count_\"})"
      ],
      "execution_count": 342,
      "outputs": []
    },
    {
      "cell_type": "code",
      "metadata": {
        "id": "XCn49_6uooWu",
        "colab_type": "code",
        "colab": {
          "base_uri": "https://localhost:8080/",
          "height": 315
        },
        "outputId": "bc9b31f5-1020-44cb-e40d-61bbedc96f21"
      },
      "source": [
        "df1.plot.bar(legend = False)\n",
        "y_pos = np.arange(len(df1[\"words in non-spam\"]))\n",
        "plt.xticks(y_pos, df1[\"words in non-spam\"])\n",
        "plt.title('More frequent words in non-spam email')\n",
        "plt.xlabel('words')\n",
        "plt.ylabel('number')\n",
        "plt.show()"
      ],
      "execution_count": 343,
      "outputs": [
        {
          "output_type": "display_data",
          "data": {
            "image/png": "[encoded data removed]",
            "text/plain": [
              "<Figure size 432x288 with 1 Axes>"
            ]
          },
          "metadata": {
            "tags": [],
            "needs_background": "light"
          }
        }
      ]
    },
    {
      "cell_type": "code",
      "metadata": {
        "id": "Ri3BSZF5ouaS",
        "colab_type": "code",
        "colab": {
          "base_uri": "https://localhost:8080/",
          "height": 337
        },
        "outputId": "1962c44b-ecc6-40b6-c0f1-fcd3612cb331"
      },
      "source": [
        "df2.plot.bar(legend = False, color = 'orange')\n",
        "y_pos = np.arange(len(df2[\"words in spam\"]))\n",
        "plt.xticks(y_pos, df2[\"words in spam\"])\n",
        "plt.title('More frequent words in spam email')\n",
        "plt.xlabel('words')\n",
        "plt.ylabel('number')\n",
        "plt.show()"
      ],
      "execution_count": 344,
      "outputs": [
        {
          "output_type": "display_data",
          "data": {
            "image/png": "[encoded data removed]",
            "text/plain": [
              "<Figure size 432x288 with 1 Axes>"
            ]
          },
          "metadata": {
            "tags": [],
            "needs_background": "light"
          }
        }
      ]
    },
    {
      "cell_type": "code",
      "metadata": {
        "id": "G5lidXcxo-x3",
        "colab_type": "code",
        "colab": {
          "base_uri": "https://localhost:8080/",
          "height": 34
        },
        "outputId": "b28a88b1-2870-489c-b99f-d39c55b3f1c8"
      },
      "source": [
        "f = feature_extraction.text.CountVectorizer()\n",
        "X = f.fit_transform(data[\"final_text\"])\n",
        "np.shape(X)"
      ],
      "execution_count": 345,
      "outputs": [
        {
          "output_type": "execute_result",
          "data": {
            "text/plain": [
              "(5171, 42637)"
            ]
          },
          "metadata": {
            "tags": []
          },
          "execution_count": 345
        }
      ]
    },
    {
      "cell_type": "code",
      "metadata": {
        "id": "XxJpcZiLpfCv",
        "colab_type": "code",
        "colab": {
          "base_uri": "https://localhost:8080/",
          "height": 34
        },
        "outputId": "f16096ed-0aad-4345-e1bf-8d5ad4cc762f"
      },
      "source": [
        "data[\"label\"]=data[\"label\"].map({'spam':1,'ham':0})\n",
        "X_train, X_test, y_train, y_test = model_selection.train_test_split(X, data['label'], test_size=0.2, random_state=42)\n",
        "print([np.shape(X_train), np.shape(X_test)])"
      ],
      "execution_count": 346,
      "outputs": [
        {
          "output_type": "stream",
          "text": [
            "[(4136, 42637), (1035, 42637)]\n"
          ],
          "name": "stdout"
        }
      ]
    },
    {
      "cell_type": "markdown",
      "metadata": {
        "id": "wQh95FXkqEH7",
        "colab_type": "text"
      },
      "source": [
        " *Multinomial Naive Bayes* "
      ]
    },
    {
      "cell_type": "code",
      "metadata": {
        "id": "1FfgqC3kqSSJ",
        "colab_type": "code",
        "colab": {}
      },
      "source": [
        "list_alpha = np.arange(1/100000, 20, 0.11)\n",
        "score_train = np.zeros(len(list_alpha))\n",
        "score_test = np.zeros(len(list_alpha))\n",
        "recall_test = np.zeros(len(list_alpha))\n",
        "precision_test= np.zeros(len(list_alpha))\n",
        "count = 0\n",
        "for alpha in list_alpha:\n",
        "    bayes = naive_bayes.MultinomialNB(alpha=alpha)\n",
        "    bayes.fit(X_train, y_train)\n",
        "    score_train[count] = bayes.score(X_train, y_train)\n",
        "    score_test[count]= bayes.score(X_test, y_test)\n",
        "    recall_test[count] = metrics.recall_score(y_test, bayes.predict(X_test))\n",
        "    precision_test[count] = metrics.precision_score(y_test, bayes.predict(X_test))\n",
        "    count = count + 1 "
      ],
      "execution_count": 347,
      "outputs": []
    },
    {
      "cell_type": "code",
      "metadata": {
        "id": "ApTAwCdZqXHj",
        "colab_type": "code",
        "colab": {
          "base_uri": "https://localhost:8080/",
          "height": 359
        },
        "outputId": "86281d0d-b427-422e-8849-0eec2732cf60"
      },
      "source": [
        "matrix = np.matrix(np.c_[list_alpha, score_train, score_test, recall_test, precision_test])\n",
        "models = pd.DataFrame(data = matrix, columns = \n",
        "             ['alpha', 'Train Accuracy', 'Test Accuracy', 'Test Recall', 'Test Precision'])\n",
        "models.head(n=10)"
      ],
      "execution_count": 348,
      "outputs": [
        {
          "output_type": "execute_result",
          "data": {
            "text/html": [
              "<div>\n",
              "<style scoped>\n",
              "    .dataframe tbody tr th:only-of-type {\n",
              "        vertical-align: middle;\n",
              "    }\n",
              "\n",
              "    .dataframe tbody tr th {\n",
              "        vertical-align: top;\n",
              "    }\n",
              "\n",
              "    .dataframe thead th {\n",
              "        text-align: right;\n",
              "    }\n",
              "</style>\n",
              "<table border=\"1\" class=\"dataframe\">\n",
              "  <thead>\n",
              "    <tr style=\"text-align: right;\">\n",
              "      <th></th>\n",
              "      <th>alpha</th>\n",
              "      <th>Train Accuracy</th>\n",
              "      <th>Test Accuracy</th>\n",
              "      <th>Test Recall</th>\n",
              "      <th>Test Precision</th>\n",
              "    </tr>\n",
              "  </thead>\n",
              "  <tbody>\n",
              "    <tr>\n",
              "      <th>0</th>\n",
              "      <td>0.00001</td>\n",
              "      <td>0.992505</td>\n",
              "      <td>0.974879</td>\n",
              "      <td>0.959044</td>\n",
              "      <td>0.952542</td>\n",
              "    </tr>\n",
              "    <tr>\n",
              "      <th>1</th>\n",
              "      <td>0.11001</td>\n",
              "      <td>0.988878</td>\n",
              "      <td>0.971981</td>\n",
              "      <td>0.969283</td>\n",
              "      <td>0.934211</td>\n",
              "    </tr>\n",
              "    <tr>\n",
              "      <th>2</th>\n",
              "      <td>0.22001</td>\n",
              "      <td>0.988395</td>\n",
              "      <td>0.971014</td>\n",
              "      <td>0.965870</td>\n",
              "      <td>0.933993</td>\n",
              "    </tr>\n",
              "    <tr>\n",
              "      <th>3</th>\n",
              "      <td>0.33001</td>\n",
              "      <td>0.987669</td>\n",
              "      <td>0.970048</td>\n",
              "      <td>0.965870</td>\n",
              "      <td>0.930921</td>\n",
              "    </tr>\n",
              "    <tr>\n",
              "      <th>4</th>\n",
              "      <td>0.44001</td>\n",
              "      <td>0.987186</td>\n",
              "      <td>0.970048</td>\n",
              "      <td>0.965870</td>\n",
              "      <td>0.930921</td>\n",
              "    </tr>\n",
              "    <tr>\n",
              "      <th>5</th>\n",
              "      <td>0.55001</td>\n",
              "      <td>0.986944</td>\n",
              "      <td>0.972947</td>\n",
              "      <td>0.965870</td>\n",
              "      <td>0.940199</td>\n",
              "    </tr>\n",
              "    <tr>\n",
              "      <th>6</th>\n",
              "      <td>0.66001</td>\n",
              "      <td>0.986944</td>\n",
              "      <td>0.973913</td>\n",
              "      <td>0.965870</td>\n",
              "      <td>0.943333</td>\n",
              "    </tr>\n",
              "    <tr>\n",
              "      <th>7</th>\n",
              "      <td>0.77001</td>\n",
              "      <td>0.986460</td>\n",
              "      <td>0.973913</td>\n",
              "      <td>0.965870</td>\n",
              "      <td>0.943333</td>\n",
              "    </tr>\n",
              "    <tr>\n",
              "      <th>8</th>\n",
              "      <td>0.88001</td>\n",
              "      <td>0.986219</td>\n",
              "      <td>0.973913</td>\n",
              "      <td>0.965870</td>\n",
              "      <td>0.943333</td>\n",
              "    </tr>\n",
              "    <tr>\n",
              "      <th>9</th>\n",
              "      <td>0.99001</td>\n",
              "      <td>0.986219</td>\n",
              "      <td>0.974879</td>\n",
              "      <td>0.965870</td>\n",
              "      <td>0.946488</td>\n",
              "    </tr>\n",
              "  </tbody>\n",
              "</table>\n",
              "</div>"
            ],
            "text/plain": [
              "     alpha  Train Accuracy  Test Accuracy  Test Recall  Test Precision\n",
              "0  0.00001        0.992505       0.974879     0.959044        0.952542\n",
              "1  0.11001        0.988878       0.971981     0.969283        0.934211\n",
              "2  0.22001        0.988395       0.971014     0.965870        0.933993\n",
              "3  0.33001        0.987669       0.970048     0.965870        0.930921\n",
              "4  0.44001        0.987186       0.970048     0.965870        0.930921\n",
              "5  0.55001        0.986944       0.972947     0.965870        0.940199\n",
              "6  0.66001        0.986944       0.973913     0.965870        0.943333\n",
              "7  0.77001        0.986460       0.973913     0.965870        0.943333\n",
              "8  0.88001        0.986219       0.973913     0.965870        0.943333\n",
              "9  0.99001        0.986219       0.974879     0.965870        0.946488"
            ]
          },
          "metadata": {
            "tags": []
          },
          "execution_count": 348
        }
      ]
    },
    {
      "cell_type": "code",
      "metadata": {
        "id": "aKldwMBeqbT3",
        "colab_type": "code",
        "colab": {
          "base_uri": "https://localhost:8080/",
          "height": 119
        },
        "outputId": "5d08dc5a-9b06-4fd6-b193-4cc0c4fdf080"
      },
      "source": [
        "best_index = models['Test Precision'].idxmax()\n",
        "models.iloc[best_index, :]"
      ],
      "execution_count": 349,
      "outputs": [
        {
          "output_type": "execute_result",
          "data": {
            "text/plain": [
              "alpha             18.260010\n",
              "Train Accuracy     0.942215\n",
              "Test Accuracy      0.929469\n",
              "Test Recall        0.754266\n",
              "Test Precision     0.995495\n",
              "Name: 166, dtype: float64"
            ]
          },
          "metadata": {
            "tags": []
          },
          "execution_count": 349
        }
      ]
    },
    {
      "cell_type": "code",
      "metadata": {
        "id": "YRcSdj4qqhux",
        "colab_type": "code",
        "colab": {
          "base_uri": "https://localhost:8080/",
          "height": 170
        },
        "outputId": "1ece5d34-aec9-42c6-d729-803f0d598ffa"
      },
      "source": [
        "from sklearn.metrics import classification_report\n",
        "print(classification_report(y_test,bayes.predict(X_test)))"
      ],
      "execution_count": 350,
      "outputs": [
        {
          "output_type": "stream",
          "text": [
            "              precision    recall  f1-score   support\n",
            "\n",
            "           0       0.91      1.00      0.95       742\n",
            "           1       1.00      0.74      0.85       293\n",
            "\n",
            "    accuracy                           0.93      1035\n",
            "   macro avg       0.95      0.87      0.90      1035\n",
            "weighted avg       0.93      0.93      0.92      1035\n",
            "\n"
          ],
          "name": "stdout"
        }
      ]
    },
    {
      "cell_type": "code",
      "metadata": {
        "id": "OpMQbMNJd9Fk",
        "colab_type": "code",
        "colab": {
          "base_uri": "https://localhost:8080/",
          "height": 34
        },
        "outputId": "bcfd0976-5fda-423b-8a14-c3d2c4844de5"
      },
      "source": [
        "from sklearn.metrics import accuracy_score\n",
        "Y_predMNBC = bayes.predict(X_test)\n",
        "acc_valMNBC = accuracy_score(y_test,Y_predMNBC)\n",
        "predMNBC = acc_valMNBC*100\n",
        "print(\"Accuracy score MNBC: %.0f\"%predMNBC,\"%\")"
      ],
      "execution_count": 351,
      "outputs": [
        {
          "output_type": "stream",
          "text": [
            "Accuracy score MNBC: 93 %\n"
          ],
          "name": "stdout"
        }
      ]
    },
    {
      "cell_type": "markdown",
      "metadata": {
        "id": "BplYejezt1q5",
        "colab_type": "text"
      },
      "source": [
        "*Support Vector Machine*"
      ]
    },
    {
      "cell_type": "code",
      "metadata": {
        "id": "iQETLwO2uRfD",
        "colab_type": "code",
        "colab": {}
      },
      "source": [
        "list_C = np.arange(500, 2000, 100) #100000\n",
        "score_train = np.zeros(len(list_C))\n",
        "score_test = np.zeros(len(list_C))\n",
        "recall_test = np.zeros(len(list_C))\n",
        "precision_test= np.zeros(len(list_C))\n",
        "count = 0\n",
        "for C in list_C:\n",
        "    svc = svm.SVC(C=C)\n",
        "    svc.fit(X_train, y_train)\n",
        "    score_train[count] = svc.score(X_train, y_train)\n",
        "    score_test[count]= svc.score(X_test, y_test)\n",
        "    recall_test[count] = metrics.recall_score(y_test, svc.predict(X_test))\n",
        "    precision_test[count] = metrics.precision_score(y_test, svc.predict(X_test))\n",
        "    count = count + 1 "
      ],
      "execution_count": 352,
      "outputs": []
    },
    {
      "cell_type": "code",
      "metadata": {
        "id": "Ry_-eO8kvgDg",
        "colab_type": "code",
        "colab": {
          "base_uri": "https://localhost:8080/",
          "height": 359
        },
        "outputId": "64ee6487-fc0f-4100-8641-9e5b69cc8056"
      },
      "source": [
        "matrix = np.matrix(np.c_[list_C, score_train, score_test, recall_test, precision_test])\n",
        "models = pd.DataFrame(data = matrix, columns = \n",
        "             ['C', 'Train Accuracy', 'Test Accuracy', 'Test Recall', 'Test Precision'])\n",
        "models.head(n=10)"
      ],
      "execution_count": 353,
      "outputs": [
        {
          "output_type": "execute_result",
          "data": {
            "text/html": [
              "<div>\n",
              "<style scoped>\n",
              "    .dataframe tbody tr th:only-of-type {\n",
              "        vertical-align: middle;\n",
              "    }\n",
              "\n",
              "    .dataframe tbody tr th {\n",
              "        vertical-align: top;\n",
              "    }\n",
              "\n",
              "    .dataframe thead th {\n",
              "        text-align: right;\n",
              "    }\n",
              "</style>\n",
              "<table border=\"1\" class=\"dataframe\">\n",
              "  <thead>\n",
              "    <tr style=\"text-align: right;\">\n",
              "      <th></th>\n",
              "      <th>C</th>\n",
              "      <th>Train Accuracy</th>\n",
              "      <th>Test Accuracy</th>\n",
              "      <th>Test Recall</th>\n",
              "      <th>Test Precision</th>\n",
              "    </tr>\n",
              "  </thead>\n",
              "  <tbody>\n",
              "    <tr>\n",
              "      <th>0</th>\n",
              "      <td>500.0</td>\n",
              "      <td>1.0</td>\n",
              "      <td>0.963285</td>\n",
              "      <td>0.955631</td>\n",
              "      <td>0.918033</td>\n",
              "    </tr>\n",
              "    <tr>\n",
              "      <th>1</th>\n",
              "      <td>600.0</td>\n",
              "      <td>1.0</td>\n",
              "      <td>0.963285</td>\n",
              "      <td>0.955631</td>\n",
              "      <td>0.918033</td>\n",
              "    </tr>\n",
              "    <tr>\n",
              "      <th>2</th>\n",
              "      <td>700.0</td>\n",
              "      <td>1.0</td>\n",
              "      <td>0.963285</td>\n",
              "      <td>0.955631</td>\n",
              "      <td>0.918033</td>\n",
              "    </tr>\n",
              "    <tr>\n",
              "      <th>3</th>\n",
              "      <td>800.0</td>\n",
              "      <td>1.0</td>\n",
              "      <td>0.963285</td>\n",
              "      <td>0.955631</td>\n",
              "      <td>0.918033</td>\n",
              "    </tr>\n",
              "    <tr>\n",
              "      <th>4</th>\n",
              "      <td>900.0</td>\n",
              "      <td>1.0</td>\n",
              "      <td>0.963285</td>\n",
              "      <td>0.955631</td>\n",
              "      <td>0.918033</td>\n",
              "    </tr>\n",
              "    <tr>\n",
              "      <th>5</th>\n",
              "      <td>1000.0</td>\n",
              "      <td>1.0</td>\n",
              "      <td>0.963285</td>\n",
              "      <td>0.955631</td>\n",
              "      <td>0.918033</td>\n",
              "    </tr>\n",
              "    <tr>\n",
              "      <th>6</th>\n",
              "      <td>1100.0</td>\n",
              "      <td>1.0</td>\n",
              "      <td>0.963285</td>\n",
              "      <td>0.955631</td>\n",
              "      <td>0.918033</td>\n",
              "    </tr>\n",
              "    <tr>\n",
              "      <th>7</th>\n",
              "      <td>1200.0</td>\n",
              "      <td>1.0</td>\n",
              "      <td>0.963285</td>\n",
              "      <td>0.955631</td>\n",
              "      <td>0.918033</td>\n",
              "    </tr>\n",
              "    <tr>\n",
              "      <th>8</th>\n",
              "      <td>1300.0</td>\n",
              "      <td>1.0</td>\n",
              "      <td>0.963285</td>\n",
              "      <td>0.955631</td>\n",
              "      <td>0.918033</td>\n",
              "    </tr>\n",
              "    <tr>\n",
              "      <th>9</th>\n",
              "      <td>1400.0</td>\n",
              "      <td>1.0</td>\n",
              "      <td>0.963285</td>\n",
              "      <td>0.955631</td>\n",
              "      <td>0.918033</td>\n",
              "    </tr>\n",
              "  </tbody>\n",
              "</table>\n",
              "</div>"
            ],
            "text/plain": [
              "        C  Train Accuracy  Test Accuracy  Test Recall  Test Precision\n",
              "0   500.0             1.0       0.963285     0.955631        0.918033\n",
              "1   600.0             1.0       0.963285     0.955631        0.918033\n",
              "2   700.0             1.0       0.963285     0.955631        0.918033\n",
              "3   800.0             1.0       0.963285     0.955631        0.918033\n",
              "4   900.0             1.0       0.963285     0.955631        0.918033\n",
              "5  1000.0             1.0       0.963285     0.955631        0.918033\n",
              "6  1100.0             1.0       0.963285     0.955631        0.918033\n",
              "7  1200.0             1.0       0.963285     0.955631        0.918033\n",
              "8  1300.0             1.0       0.963285     0.955631        0.918033\n",
              "9  1400.0             1.0       0.963285     0.955631        0.918033"
            ]
          },
          "metadata": {
            "tags": []
          },
          "execution_count": 353
        }
      ]
    },
    {
      "cell_type": "code",
      "metadata": {
        "id": "3wvROfWxvkqo",
        "colab_type": "code",
        "colab": {
          "base_uri": "https://localhost:8080/",
          "height": 119
        },
        "outputId": "0bc4460a-1860-42e6-eda2-771599fd8e97"
      },
      "source": [
        "best_index = models['Test Precision'].idxmax()\n",
        "models.iloc[best_index, :]"
      ],
      "execution_count": 354,
      "outputs": [
        {
          "output_type": "execute_result",
          "data": {
            "text/plain": [
              "C                 500.000000\n",
              "Train Accuracy      1.000000\n",
              "Test Accuracy       0.963285\n",
              "Test Recall         0.955631\n",
              "Test Precision      0.918033\n",
              "Name: 0, dtype: float64"
            ]
          },
          "metadata": {
            "tags": []
          },
          "execution_count": 354
        }
      ]
    },
    {
      "cell_type": "code",
      "metadata": {
        "id": "46GlTcdvvr_0",
        "colab_type": "code",
        "colab": {
          "base_uri": "https://localhost:8080/",
          "height": 170
        },
        "outputId": "1338773b-d487-4d67-86ff-32164c5c047e"
      },
      "source": [
        "from sklearn.metrics import classification_report\n",
        "print(classification_report(y_test,svc.predict(X_test)))"
      ],
      "execution_count": 355,
      "outputs": [
        {
          "output_type": "stream",
          "text": [
            "              precision    recall  f1-score   support\n",
            "\n",
            "           0       0.98      0.97      0.97       742\n",
            "           1       0.92      0.96      0.94       293\n",
            "\n",
            "    accuracy                           0.96      1035\n",
            "   macro avg       0.95      0.96      0.96      1035\n",
            "weighted avg       0.96      0.96      0.96      1035\n",
            "\n"
          ],
          "name": "stdout"
        }
      ]
    },
    {
      "cell_type": "code",
      "metadata": {
        "id": "vfVNnW67hSVG",
        "colab_type": "code",
        "colab": {
          "base_uri": "https://localhost:8080/",
          "height": 34
        },
        "outputId": "ca29fb9f-e47a-4f7f-fa95-4a3a7e575790"
      },
      "source": [
        "from sklearn.metrics import accuracy_score\n",
        "Y_predSVM = svc.predict(X_test)\n",
        "acc_valSVM = accuracy_score(y_test,Y_predSVM)\n",
        "predSVM = acc_valSVM*100\n",
        "print(\"Accuracy score SVM: %.0f\" %predSVM, \"%\")"
      ],
      "execution_count": 356,
      "outputs": [
        {
          "output_type": "stream",
          "text": [
            "Accuracy score SVM: 96 %\n"
          ],
          "name": "stdout"
        }
      ]
    },
    {
      "cell_type": "markdown",
      "metadata": {
        "id": "waz8e-jBwAZ2",
        "colab_type": "text"
      },
      "source": [
        "**DEEP LEARNING**"
      ]
    },
    {
      "cell_type": "markdown",
      "metadata": {
        "id": "jei67n8twGX6",
        "colab_type": "text"
      },
      "source": [
        "*RNN*"
      ]
    },
    {
      "cell_type": "code",
      "metadata": {
        "id": "c5rQvRGJv903",
        "colab_type": "code",
        "colab": {}
      },
      "source": [
        "%tensorflow_version 2.x"
      ],
      "execution_count": 357,
      "outputs": []
    },
    {
      "cell_type": "code",
      "metadata": {
        "id": "zwuaSzMNwMz4",
        "colab_type": "code",
        "colab": {}
      },
      "source": [
        "import tensorflow as tf\n",
        "import numpy as np\n",
        "\n",
        "np.random.seed(7)"
      ],
      "execution_count": 358,
      "outputs": []
    },
    {
      "cell_type": "code",
      "metadata": {
        "id": "xcgoxB7zwQOS",
        "colab_type": "code",
        "colab": {}
      },
      "source": [
        "import pandas as pd"
      ],
      "execution_count": 359,
      "outputs": []
    },
    {
      "cell_type": "code",
      "metadata": {
        "id": "tDeogLQXwS_t",
        "colab_type": "code",
        "colab": {
          "base_uri": "https://localhost:8080/",
          "height": 34
        },
        "outputId": "e5525ea9-b8c1-4e44-8f2b-4adeceda3bc9"
      },
      "source": [
        "len(data['final_text'])"
      ],
      "execution_count": 360,
      "outputs": [
        {
          "output_type": "execute_result",
          "data": {
            "text/plain": [
              "5171"
            ]
          },
          "metadata": {
            "tags": []
          },
          "execution_count": 360
        }
      ]
    },
    {
      "cell_type": "code",
      "metadata": {
        "id": "HjC3OICCwabH",
        "colab_type": "code",
        "colab": {
          "base_uri": "https://localhost:8080/",
          "height": 459
        },
        "outputId": "f6980c48-2e0c-45eb-d473-bbd5597a3305"
      },
      "source": [
        "data.head()"
      ],
      "execution_count": 361,
      "outputs": [
        {
          "output_type": "execute_result",
          "data": {
            "text/html": [
              "<div>\n",
              "<style scoped>\n",
              "    .dataframe tbody tr th:only-of-type {\n",
              "        vertical-align: middle;\n",
              "    }\n",
              "\n",
              "    .dataframe tbody tr th {\n",
              "        vertical-align: top;\n",
              "    }\n",
              "\n",
              "    .dataframe thead th {\n",
              "        text-align: right;\n",
              "    }\n",
              "</style>\n",
              "<table border=\"1\" class=\"dataframe\">\n",
              "  <thead>\n",
              "    <tr style=\"text-align: right;\">\n",
              "      <th></th>\n",
              "      <th>label</th>\n",
              "      <th>text</th>\n",
              "      <th>new_text</th>\n",
              "      <th>tokenized_text</th>\n",
              "      <th>clean_text</th>\n",
              "      <th>fix_text</th>\n",
              "      <th>stemmed_text</th>\n",
              "      <th>final_text</th>\n",
              "    </tr>\n",
              "  </thead>\n",
              "  <tbody>\n",
              "    <tr>\n",
              "      <th>0</th>\n",
              "      <td>0</td>\n",
              "      <td>Subject: enron methanol ; meter # : 988291\\r\\n...</td>\n",
              "      <td>Subject enron methanol  meter   988291\\r\\nthis...</td>\n",
              "      <td>[subject, enron, methanol, meter, 988291, this...</td>\n",
              "      <td>[subject, enron, methanol, meter, 988291, foll...</td>\n",
              "      <td>[enron, methanol, meter, 988291, follow, note,...</td>\n",
              "      <td>[enron, methanol, meter, 988291, follow, note,...</td>\n",
              "      <td>enron methanol meter 988291 follow note gave m...</td>\n",
              "    </tr>\n",
              "    <tr>\n",
              "      <th>1</th>\n",
              "      <td>0</td>\n",
              "      <td>Subject: hpl nom for january 9 , 2001\\r\\n( see...</td>\n",
              "      <td>Subject hpl nom for january 9  2001\\r\\n see at...</td>\n",
              "      <td>[subject, hpl, nom, for, january, 9, 2001, see...</td>\n",
              "      <td>[subject, hpl, nom, january, 9, 2001, see, att...</td>\n",
              "      <td>[hpl, nom, january, 9, 2001, see, attached, fi...</td>\n",
              "      <td>[hpl, nom, januari, 9, 2001, see, attach, file...</td>\n",
              "      <td>hpl nom januari 9 2001 see attach file hplnol ...</td>\n",
              "    </tr>\n",
              "    <tr>\n",
              "      <th>2</th>\n",
              "      <td>0</td>\n",
              "      <td>Subject: neon retreat\\r\\nho ho ho , we ' re ar...</td>\n",
              "      <td>Subject neon retreat\\r\\nho ho ho  we  re aroun...</td>\n",
              "      <td>[subject, neon, retreat, ho, ho, ho, we, re, a...</td>\n",
              "      <td>[subject, neon, retreat, ho, ho, ho, around, w...</td>\n",
              "      <td>[neon, retreat, ho, ho, ho, around, wonderful,...</td>\n",
              "      <td>[neon, retreat, ho, ho, ho, around, wonder, ti...</td>\n",
              "      <td>neon retreat ho ho ho around wonder time year ...</td>\n",
              "    </tr>\n",
              "    <tr>\n",
              "      <th>3</th>\n",
              "      <td>1</td>\n",
              "      <td>Subject: photoshop , windows , office . cheap ...</td>\n",
              "      <td>Subject photoshop  windows  office  cheap  mai...</td>\n",
              "      <td>[subject, photoshop, windows, office, cheap, m...</td>\n",
              "      <td>[subject, photoshop, windows, office, cheap, m...</td>\n",
              "      <td>[photoshop, windows, office, cheap, main, tren...</td>\n",
              "      <td>[photoshop, window, offic, cheap, main, trend,...</td>\n",
              "      <td>photoshop window offic cheap main trend abas d...</td>\n",
              "    </tr>\n",
              "    <tr>\n",
              "      <th>4</th>\n",
              "      <td>0</td>\n",
              "      <td>Subject: re : indian springs\\r\\nthis deal is t...</td>\n",
              "      <td>Subject re  indian springs\\r\\nthis deal is to ...</td>\n",
              "      <td>[subject, re, indian, springs, this, deal, is,...</td>\n",
              "      <td>[subject, indian, springs, deal, book, teco, p...</td>\n",
              "      <td>[indian, springs, deal, book, teco, pvr, reven...</td>\n",
              "      <td>[indian, spring, deal, book, teco, pvr, revenu...</td>\n",
              "      <td>indian spring deal book teco pvr revenu unders...</td>\n",
              "    </tr>\n",
              "  </tbody>\n",
              "</table>\n",
              "</div>"
            ],
            "text/plain": [
              "   label  ...                                         final_text\n",
              "0      0  ...  enron methanol meter 988291 follow note gave m...\n",
              "1      0  ...  hpl nom januari 9 2001 see attach file hplnol ...\n",
              "2      0  ...  neon retreat ho ho ho around wonder time year ...\n",
              "3      1  ...  photoshop window offic cheap main trend abas d...\n",
              "4      0  ...  indian spring deal book teco pvr revenu unders...\n",
              "\n",
              "[5 rows x 8 columns]"
            ]
          },
          "metadata": {
            "tags": []
          },
          "execution_count": 361
        }
      ]
    },
    {
      "cell_type": "code",
      "metadata": {
        "id": "RklsyWH0wgkk",
        "colab_type": "code",
        "colab": {
          "base_uri": "https://localhost:8080/",
          "height": 119
        },
        "outputId": "01175110-526b-4307-c532-41c90d63dbc0"
      },
      "source": [
        "data['final_text'].head()"
      ],
      "execution_count": 362,
      "outputs": [
        {
          "output_type": "execute_result",
          "data": {
            "text/plain": [
              "0    enron methanol meter 988291 follow note gave m...\n",
              "1    hpl nom januari 9 2001 see attach file hplnol ...\n",
              "2    neon retreat ho ho ho around wonder time year ...\n",
              "3    photoshop window offic cheap main trend abas d...\n",
              "4    indian spring deal book teco pvr revenu unders...\n",
              "Name: final_text, dtype: object"
            ]
          },
          "metadata": {
            "tags": []
          },
          "execution_count": 362
        }
      ]
    },
    {
      "cell_type": "code",
      "metadata": {
        "id": "YMHT98W8wikq",
        "colab_type": "code",
        "colab": {
          "base_uri": "https://localhost:8080/",
          "height": 289
        },
        "outputId": "3ab1e365-dedf-47c3-c83b-cf242bc58804"
      },
      "source": [
        "data.drop(['text' , 'new_text', 'tokenized_text', 'stemmed_text'],axis=1,inplace=True)\n",
        "data.head()"
      ],
      "execution_count": 363,
      "outputs": [
        {
          "output_type": "execute_result",
          "data": {
            "text/html": [
              "<div>\n",
              "<style scoped>\n",
              "    .dataframe tbody tr th:only-of-type {\n",
              "        vertical-align: middle;\n",
              "    }\n",
              "\n",
              "    .dataframe tbody tr th {\n",
              "        vertical-align: top;\n",
              "    }\n",
              "\n",
              "    .dataframe thead th {\n",
              "        text-align: right;\n",
              "    }\n",
              "</style>\n",
              "<table border=\"1\" class=\"dataframe\">\n",
              "  <thead>\n",
              "    <tr style=\"text-align: right;\">\n",
              "      <th></th>\n",
              "      <th>label</th>\n",
              "      <th>clean_text</th>\n",
              "      <th>fix_text</th>\n",
              "      <th>final_text</th>\n",
              "    </tr>\n",
              "  </thead>\n",
              "  <tbody>\n",
              "    <tr>\n",
              "      <th>0</th>\n",
              "      <td>0</td>\n",
              "      <td>[subject, enron, methanol, meter, 988291, foll...</td>\n",
              "      <td>[enron, methanol, meter, 988291, follow, note,...</td>\n",
              "      <td>enron methanol meter 988291 follow note gave m...</td>\n",
              "    </tr>\n",
              "    <tr>\n",
              "      <th>1</th>\n",
              "      <td>0</td>\n",
              "      <td>[subject, hpl, nom, january, 9, 2001, see, att...</td>\n",
              "      <td>[hpl, nom, january, 9, 2001, see, attached, fi...</td>\n",
              "      <td>hpl nom januari 9 2001 see attach file hplnol ...</td>\n",
              "    </tr>\n",
              "    <tr>\n",
              "      <th>2</th>\n",
              "      <td>0</td>\n",
              "      <td>[subject, neon, retreat, ho, ho, ho, around, w...</td>\n",
              "      <td>[neon, retreat, ho, ho, ho, around, wonderful,...</td>\n",
              "      <td>neon retreat ho ho ho around wonder time year ...</td>\n",
              "    </tr>\n",
              "    <tr>\n",
              "      <th>3</th>\n",
              "      <td>1</td>\n",
              "      <td>[subject, photoshop, windows, office, cheap, m...</td>\n",
              "      <td>[photoshop, windows, office, cheap, main, tren...</td>\n",
              "      <td>photoshop window offic cheap main trend abas d...</td>\n",
              "    </tr>\n",
              "    <tr>\n",
              "      <th>4</th>\n",
              "      <td>0</td>\n",
              "      <td>[subject, indian, springs, deal, book, teco, p...</td>\n",
              "      <td>[indian, springs, deal, book, teco, pvr, reven...</td>\n",
              "      <td>indian spring deal book teco pvr revenu unders...</td>\n",
              "    </tr>\n",
              "  </tbody>\n",
              "</table>\n",
              "</div>"
            ],
            "text/plain": [
              "   label  ...                                         final_text\n",
              "0      0  ...  enron methanol meter 988291 follow note gave m...\n",
              "1      0  ...  hpl nom januari 9 2001 see attach file hplnol ...\n",
              "2      0  ...  neon retreat ho ho ho around wonder time year ...\n",
              "3      1  ...  photoshop window offic cheap main trend abas d...\n",
              "4      0  ...  indian spring deal book teco pvr revenu unders...\n",
              "\n",
              "[5 rows x 4 columns]"
            ]
          },
          "metadata": {
            "tags": []
          },
          "execution_count": 363
        }
      ]
    },
    {
      "cell_type": "code",
      "metadata": {
        "id": "sgX1otIkwqlF",
        "colab_type": "code",
        "colab": {
          "base_uri": "https://localhost:8080/",
          "height": 34
        },
        "outputId": "02bbae88-df64-4fd4-b568-29030022da21"
      },
      "source": [
        "data['label'].unique()"
      ],
      "execution_count": 364,
      "outputs": [
        {
          "output_type": "execute_result",
          "data": {
            "text/plain": [
              "array([0, 1])"
            ]
          },
          "metadata": {
            "tags": []
          },
          "execution_count": 364
        }
      ]
    },
    {
      "cell_type": "code",
      "metadata": {
        "id": "Jk0TXHo6wsIU",
        "colab_type": "code",
        "colab": {}
      },
      "source": [
        "from tensorflow.keras.preprocessing.text import Tokenizer\n",
        "from tensorflow.keras.preprocessing.sequence import pad_sequences\n",
        "\n",
        "max_words = 500\n",
        "\n",
        "tokenizer = Tokenizer(num_words=max_words, split=' ')\n",
        "tokenizer.fit_on_texts(data['final_text'].values)\n",
        "X = tokenizer.texts_to_sequences(data['final_text'].values)\n",
        "X = pad_sequences(X);"
      ],
      "execution_count": 365,
      "outputs": []
    },
    {
      "cell_type": "code",
      "metadata": {
        "id": "gCE4b33swvpP",
        "colab_type": "code",
        "colab": {
          "base_uri": "https://localhost:8080/",
          "height": 51
        },
        "outputId": "196883b7-6a7a-4db2-ffc8-9668cbd076d4"
      },
      "source": [
        "from sklearn.model_selection import train_test_split\n",
        "\n",
        "Y = pd.get_dummies(data['label']).values\n",
        "X_train, X_test, Y_train, Y_test = train_test_split(X,Y, test_size = 0.2, random_state = 42)\n",
        "print('input_train shape:', X_train.shape)\n",
        "print('input_test shape:', X_test.shape)\n",
        "\n"
      ],
      "execution_count": 366,
      "outputs": [
        {
          "output_type": "stream",
          "text": [
            "input_train shape: (4136, 1481)\n",
            "input_test shape: (1035, 1481)\n"
          ],
          "name": "stdout"
        }
      ]
    },
    {
      "cell_type": "code",
      "metadata": {
        "id": "8-muoHtgwyak",
        "colab_type": "code",
        "colab": {}
      },
      "source": [
        "from tensorflow.keras.models import Sequential\n",
        "from tensorflow.keras.layers import Embedding, SimpleRNN, LSTM, GRU, Dense\n",
        "import matplotlib.pyplot as plt"
      ],
      "execution_count": 367,
      "outputs": []
    },
    {
      "cell_type": "markdown",
      "metadata": {
        "id": "1kY427erw25e",
        "colab_type": "text"
      },
      "source": [
        "*Simple RNN*"
      ]
    },
    {
      "cell_type": "code",
      "metadata": {
        "id": "Nmf46prgw5oZ",
        "colab_type": "code",
        "colab": {
          "base_uri": "https://localhost:8080/",
          "height": 187
        },
        "outputId": "b08feea8-6e68-46e6-b9a5-f29374c1c1ed"
      },
      "source": [
        "model_RNN = Sequential()\n",
        "model_RNN.add(Embedding(10000, 32))\n",
        "model_RNN.add(SimpleRNN(32))\n",
        "model_RNN.add(Dense(2, activation='sigmoid'))\n",
        "model_RNN.compile(optimizer='adam', loss='categorical_crossentropy', metrics=['acc'])\n",
        "history_RNN = model_RNN.fit(X_train, Y_train,\n",
        "                    epochs=5,\n",
        "                    batch_size=512, #sekali proses jln 512\n",
        "                    validation_split=0.2, #dataset dibagi antara training dan testing (80% buat training 20% buat testing)\n",
        "                    validation_data=(X_test, Y_test))"
      ],
      "execution_count": 370,
      "outputs": [
        {
          "output_type": "stream",
          "text": [
            "Epoch 1/5\n",
            "7/7 [==============================] - 6s 923ms/step - loss: 0.6824 - acc: 0.5792 - val_loss: 0.6848 - val_acc: 0.5700\n",
            "Epoch 2/5\n",
            "7/7 [==============================] - 6s 895ms/step - loss: 0.6540 - acc: 0.7016 - val_loss: 0.6550 - val_acc: 0.7415\n",
            "Epoch 3/5\n",
            "7/7 [==============================] - 6s 909ms/step - loss: 0.6265 - acc: 0.8086 - val_loss: 0.6126 - val_acc: 0.7403\n",
            "Epoch 4/5\n",
            "7/7 [==============================] - 6s 918ms/step - loss: 0.5917 - acc: 0.7491 - val_loss: 0.5873 - val_acc: 0.7307\n",
            "Epoch 5/5\n",
            "7/7 [==============================] - 6s 916ms/step - loss: 0.5636 - acc: 0.7394 - val_loss: 0.5617 - val_acc: 0.7283\n"
          ],
          "name": "stdout"
        }
      ]
    },
    {
      "cell_type": "code",
      "metadata": {
        "id": "FtYIYabsxyBf",
        "colab_type": "code",
        "colab": {
          "base_uri": "https://localhost:8080/",
          "height": 51
        },
        "outputId": "723c86fe-6531-4736-e859-0fb3df20eb42"
      },
      "source": [
        "loss_RNN, acc_RNN = model_RNN.evaluate(X_test, Y_test, verbose=0)\n",
        "print(\"Accuracy: %.2f\" % (acc_RNN*100), \"%\")\n",
        "print(\"Loss: %.2f\" % (loss_RNN*100), \"%\")"
      ],
      "execution_count": 371,
      "outputs": [
        {
          "output_type": "stream",
          "text": [
            "Accuracy: 73.53 %\n",
            "Loss: 56.11 %\n"
          ],
          "name": "stdout"
        }
      ]
    },
    {
      "cell_type": "code",
      "metadata": {
        "id": "TDx4r4W6x-61",
        "colab_type": "code",
        "colab": {
          "base_uri": "https://localhost:8080/",
          "height": 170
        },
        "outputId": "643de47c-9d01-46a0-8df7-3285e56f1395"
      },
      "source": [
        "from sklearn.metrics import classification_report\n",
        "Y_pred = model_RNN.predict(X_test)\n",
        "print(classification_report(Y_test.argmax(axis=1),Y_pred.argmax(axis=1)))"
      ],
      "execution_count": 372,
      "outputs": [
        {
          "output_type": "stream",
          "text": [
            "              precision    recall  f1-score   support\n",
            "\n",
            "           0       0.73      1.00      0.84       742\n",
            "           1       0.95      0.07      0.13       293\n",
            "\n",
            "    accuracy                           0.74      1035\n",
            "   macro avg       0.84      0.53      0.49      1035\n",
            "weighted avg       0.79      0.74      0.64      1035\n",
            "\n"
          ],
          "name": "stdout"
        }
      ]
    },
    {
      "cell_type": "code",
      "metadata": {
        "id": "WVqIIqD1Z1R4",
        "colab_type": "code",
        "colab": {
          "base_uri": "https://localhost:8080/",
          "height": 34
        },
        "outputId": "b7c77606-2e4f-4ec1-a3ff-3e25be5511a9"
      },
      "source": [
        "from sklearn.metrics import accuracy_score, recall_score, precision_score, f1_score\n",
        "Y_predRNN = model_RNN.predict(X_test)\n",
        "acc_valRNN = accuracy_score(Y_test.argmax(axis=1),Y_predRNN.argmax(axis=1))\n",
        "pres = (acc_valRNN*100)\n",
        "print(\"Accuracy score RNN: %.0f\" %pres, \"%\")\n"
      ],
      "execution_count": 373,
      "outputs": [
        {
          "output_type": "stream",
          "text": [
            "Accuracy score RNN: 74 %\n"
          ],
          "name": "stdout"
        }
      ]
    },
    {
      "cell_type": "code",
      "metadata": {
        "id": "VF0GBTSqoKzL",
        "colab_type": "code",
        "colab": {}
      },
      "source": [
        "import pandas as pd"
      ],
      "execution_count": 374,
      "outputs": []
    },
    {
      "cell_type": "code",
      "metadata": {
        "id": "_yys5pfBLQZr",
        "colab_type": "code",
        "colab": {
          "base_uri": "https://localhost:8080/",
          "height": 142
        },
        "outputId": "dd2bad2d-36df-4379-cbdd-0d7a3123d5ca"
      },
      "source": [
        "daftarAccurancy = pd.DataFrame({'Number':[1,2,3],\n",
        "                                'Algorithm':['MNBC','SVM','RNN'],\n",
        "                                'Accurancy':[predMNBC,predSVM,pres],\n",
        "                                'Percentage':['%.0f%%' %predMNBC,'%.0f%%' %predSVM,'%.0f%%' %pres]})\n",
        "daftarAccurancy"
      ],
      "execution_count": 375,
      "outputs": [
        {
          "output_type": "execute_result",
          "data": {
            "text/html": [
              "<div>\n",
              "<style scoped>\n",
              "    .dataframe tbody tr th:only-of-type {\n",
              "        vertical-align: middle;\n",
              "    }\n",
              "\n",
              "    .dataframe tbody tr th {\n",
              "        vertical-align: top;\n",
              "    }\n",
              "\n",
              "    .dataframe thead th {\n",
              "        text-align: right;\n",
              "    }\n",
              "</style>\n",
              "<table border=\"1\" class=\"dataframe\">\n",
              "  <thead>\n",
              "    <tr style=\"text-align: right;\">\n",
              "      <th></th>\n",
              "      <th>Number</th>\n",
              "      <th>Algorithm</th>\n",
              "      <th>Accurancy</th>\n",
              "      <th>Percentage</th>\n",
              "    </tr>\n",
              "  </thead>\n",
              "  <tbody>\n",
              "    <tr>\n",
              "      <th>0</th>\n",
              "      <td>1</td>\n",
              "      <td>MNBC</td>\n",
              "      <td>92.657005</td>\n",
              "      <td>93%</td>\n",
              "    </tr>\n",
              "    <tr>\n",
              "      <th>1</th>\n",
              "      <td>2</td>\n",
              "      <td>SVM</td>\n",
              "      <td>96.328502</td>\n",
              "      <td>96%</td>\n",
              "    </tr>\n",
              "    <tr>\n",
              "      <th>2</th>\n",
              "      <td>3</td>\n",
              "      <td>RNN</td>\n",
              "      <td>73.526570</td>\n",
              "      <td>74%</td>\n",
              "    </tr>\n",
              "  </tbody>\n",
              "</table>\n",
              "</div>"
            ],
            "text/plain": [
              "   Number Algorithm  Accurancy Percentage\n",
              "0       1      MNBC  92.657005        93%\n",
              "1       2       SVM  96.328502        96%\n",
              "2       3       RNN  73.526570        74%"
            ]
          },
          "metadata": {
            "tags": []
          },
          "execution_count": 375
        }
      ]
    },
    {
      "cell_type": "code",
      "metadata": {
        "id": "YVrJHoC7ZQR_",
        "colab_type": "code",
        "colab": {
          "base_uri": "https://localhost:8080/",
          "height": 281
        },
        "outputId": "44a36706-a762-4e84-9d76-1ee36bd4be1b"
      },
      "source": [
        "daftarAccurancy.plot.barh(x='Algorithm',y='Accurancy', color= [\"blue\", \"orange\", \"green\"], title='Each Algorithm Accurancy - Bar Chart Vers')\n",
        "plt.show()\n"
      ],
      "execution_count": 376,
      "outputs": [
        {
          "output_type": "display_data",
          "data": {
            "image/png": "[encoded data removed]",
            "text/plain": [
              "<Figure size 432x288 with 1 Axes>"
            ]
          },
          "metadata": {
            "tags": [],
            "needs_background": "light"
          }
        }
      ]
    }
  ]
}